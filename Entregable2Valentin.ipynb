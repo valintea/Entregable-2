{
  "nbformat": 4,
  "nbformat_minor": 0,
  "metadata": {
    "colab": {
      "name": "Entregable2Valentin.ipynb",
      "provenance": [],
      "authorship_tag": "ABX9TyP2lS2i7la6YaPPuVijh9RR",
      "include_colab_link": true
    },
    "kernelspec": {
      "name": "python3",
      "display_name": "Python 3"
    },
    "language_info": {
      "name": "python"
    }
  },
  "cells": [
    {
      "cell_type": "markdown",
      "metadata": {
        "id": "view-in-github",
        "colab_type": "text"
      },
      "source": [
        "<a href=\"https://colab.research.google.com/github/valintea/Entregable-2/blob/main/Entregable2Valentin.ipynb\" target=\"_parent\"><img src=\"https://colab.research.google.com/assets/colab-badge.svg\" alt=\"Open In Colab\"/></a>"
      ]
    },
    {
      "cell_type": "code",
      "execution_count": 9,
      "metadata": {
        "colab": {
          "base_uri": "https://localhost:8080/"
        },
        "id": "zUlUV84vC6yk",
        "outputId": "b1ab114d-7968-422a-d11d-dedfe919645a"
      },
      "outputs": [
        {
          "output_type": "stream",
          "name": "stdout",
          "text": [
            "--2022-05-23 09:19:32--  https://github.com/IA2122/entregable-2-valintea/blob/3e3264144a5f9e0067b613233f8d598f6a12387a/Zoro.zip?raw=true\n",
            "Resolving github.com (github.com)... 140.82.121.3\n",
            "Connecting to github.com (github.com)|140.82.121.3|:443... connected.\n",
            "HTTP request sent, awaiting response... 404 Not Found\n",
            "2022-05-23 09:19:32 ERROR 404: Not Found.\n",
            "\n",
            "--2022-05-23 09:19:32--  https://github.com/IA2122/entregable-2-valintea/blob/3e3264144a5f9e0067b613233f8d598f6a12387a/Nami.zip?raw=true\n",
            "Resolving github.com (github.com)... 140.82.121.3\n",
            "Connecting to github.com (github.com)|140.82.121.3|:443... connected.\n",
            "HTTP request sent, awaiting response... 404 Not Found\n",
            "2022-05-23 09:19:33 ERROR 404: Not Found.\n",
            "\n",
            "--2022-05-23 09:19:33--  https://github.com/IA2122/entregable-2-valintea/blob/3e3264144a5f9e0067b613233f8d598f6a12387a/Luffy.zip?raw=true\n",
            "Resolving github.com (github.com)... 140.82.121.4\n",
            "Connecting to github.com (github.com)|140.82.121.4|:443... connected.\n",
            "HTTP request sent, awaiting response... 404 Not Found\n",
            "2022-05-23 09:19:33 ERROR 404: Not Found.\n",
            "\n"
          ]
        }
      ],
      "source": [
        "!wget https://github.com/IA2122/entregable-2-valintea/blob/3e3264144a5f9e0067b613233f8d598f6a12387a/Zoro.zip?raw=true -O Zoro.zip\n",
        "!wget https://github.com/IA2122/entregable-2-valintea/blob/3e3264144a5f9e0067b613233f8d598f6a12387a/Nami.zip?raw=true -O Nami.zip\n",
        "!wget https://github.com/IA2122/entregable-2-valintea/blob/3e3264144a5f9e0067b613233f8d598f6a12387a/Luffy.zip?raw=true -O Luffy.zip"
      ]
    }
  ]
}